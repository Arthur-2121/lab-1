{
  "cells": [
    {
      "cell_type": "markdown",
      "metadata": {
        "id": "M-DGa20PaHnu"
      },
      "source": [
        "# Задача 1\n",
        "Написать функцию на вход которой подается строка, состоящая из латинских букв.\n",
        "Функция должна вернуть количество гласных букв (a, e, i, o, u) в этой строке. Написать тесты для кода"
      ]
    },
    {
      "cell_type": "code",
      "execution_count": 1,
      "metadata": {
        "id": "XvX8X_JJ6PCb"
      },
      "outputs": [
        {
          "name": "stdout",
          "output_type": "stream",
          "text": [
            "5\n",
            "0\n"
          ]
        }
      ],
      "source": [
        "\n",
        "def count_vowels(s):\n",
        "    vowels = \"aeiou\"\n",
        "    return sum(1 for char in s.lower() if char in vowels)\n",
        "\n",
        "#Примеры\n",
        "print(count_vowels(\"AEIoU\"))  # 5\n",
        "print(count_vowels(\"hgvdxtrxtrx\"))  # 0\n",
        "\n",
        "\n"
      ]
    },
    {
      "cell_type": "markdown",
      "metadata": {
        "id": "t2ClV_Y0bbr6"
      },
      "source": [
        "# Задача 2\n",
        "Написать функцию на вход, которой подается строка. Функция должна вернуть true, если\n",
        "каждый символ в строке встречается только 1 раз, иначе должна вернуть false. Написать тесты для кода"
      ]
    },
    {
      "cell_type": "code",
      "execution_count": 2,
      "metadata": {
        "id": "FppbECao6VIz"
      },
      "outputs": [
        {
          "name": "stdout",
          "output_type": "stream",
          "text": [
            "True\n",
            "False\n",
            "True\n"
          ]
        }
      ],
      "source": [
        "\n",
        "def has_unique_chars(s):\n",
        "    return len(s) == len(set(s))\n",
        "\n",
        "# Примеры\n",
        "print(has_unique_chars(\"RTF\"))  # True\n",
        "print(has_unique_chars(\"aabc\"))  # False\n",
        "print(has_unique_chars(\"\"))  # True\n",
        "\n",
        "\n"
      ]
    },
    {
      "cell_type": "markdown",
      "metadata": {
        "id": "udRiIK1cdt6E"
      },
      "source": [
        "# Задача 3\n",
        "Написать функцию, которая принимает положительное число и возвращает количество\n",
        "бит равных 1 в этом числе. Написать тесты для кода"
      ]
    },
    {
      "cell_type": "code",
      "execution_count": 3,
      "metadata": {
        "id": "6tkfDJRz6dp_"
      },
      "outputs": [
        {
          "name": "stdout",
          "output_type": "stream",
          "text": [
            "1\n",
            "1\n",
            "10\n"
          ]
        }
      ],
      "source": [
        "\n",
        "def count_bits(n):\n",
        "    if n <= 0:\n",
        "        raise ValueError(\"Введите положительное число.\")\n",
        "    return bin(n).count('1')\n",
        "\n",
        "# Примеры\n",
        "print(count_bits(1))       # 1\n",
        "print(count_bits(2))       # 1\n",
        "print(count_bits(1023))    # 10\n",
        "\n"
      ]
    },
    {
      "cell_type": "markdown",
      "metadata": {
        "id": "26dDUz-Ae17N"
      },
      "source": [
        "# Задача 4\n",
        "Написать функцию, которая принимает положительное число. Функция должна вернуть то,\n",
        "сколько раз необходимо перемножать цифры числа или результат перемножения, чтобы\n",
        "получилось число состоящее из одной цифры.\n",
        "Например, для входного числа:\n",
        "· 39 функция должна вернуть 3, так как 3*9=27 => 2*7=14 => 1*4=4\n",
        "· 4 функция должна вернуть 0, так как число уже состоит из одной цифры\n",
        "· 999 функция должна вернуть 4, так как 9*9*9=729 => 7*2*9=126 => 1*2*6=12 =>\n",
        "1*2=2. Написать тесты для кода"
      ]
    },
    {
      "cell_type": "code",
      "execution_count": 1,
      "metadata": {
        "id": "BH1A_Mgi6i4G"
      },
      "outputs": [
        {
          "name": "stdout",
          "output_type": "stream",
          "text": [
            "3\n",
            "0\n",
            "4\n"
          ]
        }
      ],
      "source": [
        "\n",
        "def multiply_until_single_digit(n):\n",
        "    if n < 10:\n",
        "        return 0\n",
        "    else:\n",
        "        d = 1\n",
        "        while n > 0:\n",
        "            d *= n % 10\n",
        "            n //= 10\n",
        "        return 1 + multiply_until_single_digit(d)\n",
        "\n",
        "# Примеры\n",
        "print(multiply_until_single_digit(39))   # 3\n",
        "print(multiply_until_single_digit(4))    # 0\n",
        "print(multiply_until_single_digit(999))  # 4\n",
        "\n",
        "\n"
      ]
    },
    {
      "cell_type": "markdown",
      "metadata": {
        "id": "0nS-kIa8g8vd"
      },
      "source": [
        "# Задача 5\n",
        "Написать функцию, которая принимает два целочисленных вектора одинаковой длины и\n",
        "возвращает среднеквадратическое отклонение двух векторов. Написать тесты для кода"
      ]
    },
    {
      "cell_type": "code",
      "execution_count": 2,
      "metadata": {
        "id": "8iphx4LM6xbx"
      },
      "outputs": [
        {
          "name": "stdout",
          "output_type": "stream",
          "text": [
            "0.0\n",
            "9.0\n",
            "16.666666666666668\n"
          ]
        }
      ],
      "source": [
        "\n",
        "def mse(pred, true):\n",
        "    if len(pred) != len(true):\n",
        "        raise ValueError(\"Векторы должны быть одинаковой длины.\")\n",
        "\n",
        "    n = len(pred)\n",
        "    sum_sq_diff = 0\n",
        "\n",
        "    for i in range(n):\n",
        "        sum_sq_diff += (pred[i] - true[i]) ** 2\n",
        "        \n",
        "    return sum_sq_diff / n\n",
        "\n",
        "# Примеры\n",
        "print(mse([1, 2, 3], [1, 2, 3])) # 0.0\n",
        "print(mse([1, 2, 3], [4, 5, 6])) # 9.0\n",
        "print(mse([10, 20, 30], [10, 25, 35])) # 16.666666666666668\n",
        "\n",
        "\n"
      ]
    },
    {
      "cell_type": "markdown",
      "metadata": {
        "id": "vpIPKL439zkw"
      },
      "source": [
        "# Задача 6\n",
        "Написать функцию, принимающая целое положительное число. Функция должна вернуть\n",
        "строку вида “(n1**p1)(n2**p2)…(nk**pk)” представляющая разложение числа на простые\n",
        "множители (если pi == 1, то выводить только ni).\n",
        "Например, для числа 86240 функция должна вернуть “(2**5)(5)(7**2)(11)”. Написать тесты для кода"
      ]
    },
    {
      "cell_type": "code",
      "execution_count": 4,
      "metadata": {
        "id": "pFebmcZk94Jw"
      },
      "outputs": [
        {
          "name": "stdout",
          "output_type": "stream",
          "text": [
            "(2**5)(5)(7**2)(11)\n",
            "(2**2)(7)\n",
            "(2**2)(5**2)\n"
          ]
        }
      ],
      "source": [
        "\n",
        "def factorization(n):\n",
        "    if n < 1:\n",
        "        raise ValueError(\"Введите целое положительное число.\")\n",
        "    \n",
        "    factors = {}\n",
        "    for d in range(2, int(n**0.5) + 1):\n",
        "        while n % d == 0:\n",
        "            factors[d] = factors.get(d, 0) + 1\n",
        "            n //= d\n",
        "    if n > 1:\n",
        "        factors[n] = 1\n",
        "    result = ''.join([f\"({key}{'**' + str(value) if value > 1 else ''})\" for key, value in factors.items()])\n",
        "    \n",
        "    return result\n",
        "\n",
        "# Примеры\n",
        "print(factorization(86240)) # (2**5)(5)(7**2)(11)\n",
        "print(factorization(28)) # (2**2)(7)\n",
        "print(factorization(100)) # (2**2)(5**2)\n",
        "    \n",
        "\n",
        "\n"
      ]
    },
    {
      "cell_type": "markdown",
      "metadata": {
        "id": "ps2s0BudX7A2"
      },
      "source": [
        "# Задача 7\n",
        "Написать функцию, принимающая целое число n, задающее количество кубиков. Функция\n",
        "должна определить, можно ли из данного кол-ва кубиков построить пирамиду, то есть\n",
        "можно ли представить число n как 1^2+2^2+3^2+…+k^2. Если можно, то функция должна\n",
        "вернуть k, иначе строку “It is impossible”. Написать тесты для кода"
      ]
    },
    {
      "cell_type": "code",
      "execution_count": 11,
      "metadata": {
        "id": "3YPjEXxhX_YT"
      },
      "outputs": [
        {
          "name": "stdout",
          "output_type": "stream",
          "text": [
            "1\n",
            "It is impossible\n",
            "3\n"
          ]
        }
      ],
      "source": [
        "\n",
        "def pyramid(number):\n",
        "    k = 0\n",
        "    total_cubes = 0\n",
        "    \n",
        "    while total_cubes < number:\n",
        "        k += 1\n",
        "        total_cubes += k**2\n",
        "    \n",
        "    if total_cubes == number:\n",
        "        return k\n",
        "    else:\n",
        "        return \"It is impossible\"\n",
        "\n",
        "# Примеры\n",
        "print(pyramid(1))  #  1 \n",
        "print(pyramid(777))  # It is impossible\"\n",
        "print(pyramid(14))  # 3\n",
        "\n"
      ]
    },
    {
      "cell_type": "markdown",
      "metadata": {
        "id": "KeKgmIdAQMEJ"
      },
      "source": [
        "# Задача 8\n",
        "Функция принимает на вход положительное число и определяет является ли оно сбалансированным, т.е. сумма цифр до средних равна сумме цифр после. Средними в случае нечетного числа цифр считать одну цифру, в случае четного - две средних. Написать тесты для кода"
      ]
    },
    {
      "cell_type": "code",
      "execution_count": 14,
      "metadata": {
        "id": "gMAAqtqlQrZt"
      },
      "outputs": [
        {
          "name": "stdout",
          "output_type": "stream",
          "text": [
            "True\n",
            "False\n",
            "True\n"
          ]
        }
      ],
      "source": [
        "\n",
        "def is_balanced(number):\n",
        "    digits = [int(d) for d in str(number)]\n",
        "    length = len(digits)\n",
        "\n",
        "    if length % 2 == 0:\n",
        "        mid1, mid2 = length // 2 - 1, length // 2\n",
        "        sum_left = sum(digits[:mid1 + 1])\n",
        "        sum_right = sum(digits[mid2:])\n",
        "    else:\n",
        "        mid = length // 2\n",
        "        sum_left = sum(digits[:mid])\n",
        "        sum_right = sum(digits[mid + 1:])\n",
        "\n",
        "    return sum_left == sum_right\n",
        "\n",
        "# Примеры\n",
        "print(is_balanced(1230))  # True\n",
        "print(is_balanced(1234))  # False\n",
        "print(is_balanced(1))      # True\n",
        "\n"
      ]
    }
  ],
  "metadata": {
    "colab": {
      "provenance": []
    },
    "kernelspec": {
      "display_name": "base",
      "language": "python",
      "name": "python3"
    },
    "language_info": {
      "codemirror_mode": {
        "name": "ipython",
        "version": 3
      },
      "file_extension": ".py",
      "mimetype": "text/x-python",
      "name": "python",
      "nbconvert_exporter": "python",
      "pygments_lexer": "ipython3",
      "version": "3.12.4"
    }
  },
  "nbformat": 4,
  "nbformat_minor": 0
}
